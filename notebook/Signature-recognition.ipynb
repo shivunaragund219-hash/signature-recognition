{
 "cells": [
  {
   "cell_type": "code",
   "execution_count": 1,
   "id": "f3d7f87a-68b6-4802-8fde-61a66b05fde2",
   "metadata": {},
   "outputs": [],
   "source": [
    "import os\n",
    "import torch\n",
    "import numpy as np\n",
    "import pandas as pd\n",
    "import matplotlib.pyplot as plt\n",
    "from tqdm import tqdm\n",
    "import torch.nn.functional as F"
   ]
  },
  {
   "cell_type": "code",
   "execution_count": 2,
   "id": "5652d803-ba0d-4e86-a1b2-80a14ca23e6c",
   "metadata": {},
   "outputs": [],
   "source": [
    "data_dir = r\"D:\\project\\signaturRecognition\\notebook\\data\""
   ]
  },
  {
   "cell_type": "code",
   "execution_count": 31,
   "id": "d3e9dbc1-757e-4c92-bfb5-872d65ef476d",
   "metadata": {},
   "outputs": [
    {
     "data": {
      "text/plain": [
       "2"
      ]
     },
     "execution_count": 31,
     "metadata": {},
     "output_type": "execute_result"
    }
   ],
   "source": [
    "class_name = os.listdir(data_dir)\n",
    "len(class_name)"
   ]
  },
  {
   "cell_type": "code",
   "execution_count": 32,
   "id": "2063e9f2-26f3-448e-b08b-2148499a5dbd",
   "metadata": {},
   "outputs": [],
   "source": [
    "from torchvision.datasets import ImageFolder\n",
    "from torch.utils.data import DataLoader\n",
    "from torchvision.utils import make_grid\n",
    "from torchvision import transforms as T, datasets\n"
   ]
  },
  {
   "cell_type": "code",
   "execution_count": 33,
   "id": "3d482455-1090-415e-bc8d-168d40f81b91",
   "metadata": {},
   "outputs": [
    {
     "name": "stdout",
     "output_type": "stream",
     "text": [
      "Device: cuda\n"
     ]
    }
   ],
   "source": [
    "\n",
    "device = torch.device(\"cuda\" if torch.cuda.is_available() else \"cpu\")\n",
    "print(\"Device: {}\".format(device))\n"
   ]
  },
  {
   "cell_type": "code",
   "execution_count": 34,
   "id": "61277788-5ab9-4d1c-8b1e-ee2e56db975b",
   "metadata": {},
   "outputs": [],
   "source": [
    "data_transform = T.Compose([\n",
    "    T.Resize(size=(224,224)),\n",
    "    T.RandomRotation(degrees=(-20,+20)),\n",
    "    T.ToTensor(),\n",
    "    T.Normalize((0.485,0.456,0.406), (0.229,0.224,0.225))\n",
    "])\n"
   ]
  },
  {
   "cell_type": "code",
   "execution_count": 35,
   "id": "79ae21cd-cf51-4289-a7d6-0fc8e1f95333",
   "metadata": {},
   "outputs": [],
   "source": [
    "data=datasets.ImageFolder(data_dir,transform=data_transform)\n",
    "total_count=len(data)"
   ]
  },
  {
   "cell_type": "code",
   "execution_count": 36,
   "id": "17330c08-160a-49f2-b670-b49e2d81bd1f",
   "metadata": {},
   "outputs": [
    {
     "data": {
      "text/plain": [
       "2640"
      ]
     },
     "execution_count": 36,
     "metadata": {},
     "output_type": "execute_result"
    }
   ],
   "source": [
    "total_count"
   ]
  },
  {
   "cell_type": "code",
   "execution_count": 37,
   "id": "51171e80-b79f-43bd-a2ed-cea5e3915aca",
   "metadata": {},
   "outputs": [
    {
     "data": {
      "text/plain": [
       "['full_forg', 'full_org']"
      ]
     },
     "execution_count": 37,
     "metadata": {},
     "output_type": "execute_result"
    }
   ],
   "source": [
    "data.classes"
   ]
  },
  {
   "cell_type": "code",
   "execution_count": 38,
   "id": "f36dc59d-959a-4ef9-896e-38174f0ddb0d",
   "metadata": {},
   "outputs": [],
   "source": [
    "train_count=int(0.6* total_count)\n",
    "valid_count=int(0.3* total_count)\n",
    "test_count=total_count-train_count-valid_count\n",
    "train_data,val_data,test_data=torch.utils.data.random_split(data,(train_count,valid_count,test_count))"
   ]
  },
  {
   "cell_type": "code",
   "execution_count": 39,
   "id": "5934acff-11e2-46ec-b8bb-f48374f21c31",
   "metadata": {},
   "outputs": [
    {
     "data": {
      "text/plain": [
       "Dataset ImageFolder\n",
       "    Number of datapoints: 2640\n",
       "    Root location: D:\\project\\signaturRecognition\\notebook\\data\n",
       "    StandardTransform\n",
       "Transform: Compose(\n",
       "               Resize(size=(224, 224), interpolation=bilinear, max_size=None, antialias=True)\n",
       "               RandomRotation(degrees=[-20.0, 20.0], interpolation=nearest, expand=False, fill=0)\n",
       "               ToTensor()\n",
       "               Normalize(mean=(0.485, 0.456, 0.406), std=(0.229, 0.224, 0.225))\n",
       "           )"
      ]
     },
     "execution_count": 39,
     "metadata": {},
     "output_type": "execute_result"
    }
   ],
   "source": [
    "train_data.dataset"
   ]
  },
  {
   "cell_type": "code",
   "execution_count": 40,
   "id": "c781d4a6-1e4e-4030-a894-c1fe6b3cb4cc",
   "metadata": {},
   "outputs": [
    {
     "data": {
      "text/plain": [
       "1584"
      ]
     },
     "execution_count": 40,
     "metadata": {},
     "output_type": "execute_result"
    }
   ],
   "source": [
    "len(train_data.indices)"
   ]
  },
  {
   "cell_type": "code",
   "execution_count": 41,
   "id": "6cdbed4c-873a-4258-949f-6d1ef26b6723",
   "metadata": {},
   "outputs": [
    {
     "data": {
      "text/plain": [
       "264"
      ]
     },
     "execution_count": 41,
     "metadata": {},
     "output_type": "execute_result"
    }
   ],
   "source": [
    "len(test_data.indices)"
   ]
  },
  {
   "cell_type": "code",
   "execution_count": 42,
   "id": "113cb462-90b7-448c-8928-b2a22a5f8b5c",
   "metadata": {},
   "outputs": [
    {
     "data": {
      "text/plain": [
       "792"
      ]
     },
     "execution_count": 42,
     "metadata": {},
     "output_type": "execute_result"
    }
   ],
   "source": [
    "len(val_data.indices)"
   ]
  },
  {
   "cell_type": "code",
   "execution_count": 43,
   "id": "1d0e5926-f53f-45ef-88cb-11491b70ab00",
   "metadata": {},
   "outputs": [],
   "source": [
    "def show_image(image,label,get_denormalize=True):\n",
    "    image=image.permute(1,2,0)\n",
    "    mean=torch.FloatTensor([0.485,0.456,0.406])\n",
    "    std=torch.FloatTensor([0.229,0.224,0.225])\n",
    "    if get_denormalize==True:\n",
    "        image=image*std+mean\n",
    "        image=np.clip(image,0,1)\n",
    "        plt.imshow(image)\n",
    "        plt.title(label)\n",
    "    else:\n",
    "        plt.show(image)\n",
    "        plt.title(label)\n",
    "def show_grid(image,title = None):\n",
    "    image = image.permute(1,2,0)\n",
    "    mean = torch.floatTensor([0.485,0.456,0.406])\n",
    "    std = torch.FloatTensor([0.229,0.224,0.225])\n",
    "\n",
    "    image = image*std+mean\n",
    "    image = np.clip(image,0,1)\n",
    "\n",
    "    plt.figure(figsize=[15,15])\n",
    "    plt.imshow(image)\n",
    "    if title != None:\n",
    "        plt.title(title)\n",
    "\n",
    "def accuracy(y_pred,y_true):\n",
    "    y_pred = F.softmax(y_pred,dim = 1)\n",
    "    top_p,toop_class = y_pred.topk(1,dim = 1)\n",
    "    equals = top_class == y_ture.view(*top_class.shape)\n",
    "    return torch.mean(equals.type(torch.FloatTensor))\n",
    "        \n",
    "        \n"
   ]
  },
  {
   "cell_type": "code",
   "execution_count": 44,
   "id": "65d2e938-8d48-487c-b2e0-d3e1e286b801",
   "metadata": {},
   "outputs": [
    {
     "data": {
      "image/png": "[encoded data removed]",
      "text/plain": [
       "<Figure size 640x480 with 1 Axes>"
      ]
     },
     "metadata": {},
     "output_type": "display_data"
    }
   ],
   "source": [
    "img,label=train_data[0]\n",
    "show_image(img,label)"
   ]
  },
  {
   "cell_type": "code",
   "execution_count": 45,
   "id": "4644c4ab-4aad-4915-a18e-ecd7c26bd2e0",
   "metadata": {},
   "outputs": [
    {
     "name": "stdout",
     "output_type": "stream",
     "text": [
      "No. of  batches in trainloader:50 \n",
      "No. of Total examples:1584 \n",
      "No. of  batches in validationloader:25 \n",
      "No. of Total examples:792 \n",
      "No. of  batches in testloader:9 \n",
      "No. of Total examples:264 \n"
     ]
    }
   ],
   "source": [
    "trainloader=DataLoader(train_data,batch_size=32,shuffle=True)\n",
    "print(\"No. of  batches in trainloader:{} \".format(len(trainloader)))\n",
    "print(\"No. of Total examples:{} \".format(len(trainloader.dataset)))\n",
    "\n",
    "validationloader=DataLoader(val_data,batch_size=32,shuffle=True)\n",
    "print(\"No. of  batches in validationloader:{} \".format(len(validationloader)))\n",
    "print(\"No. of Total examples:{} \".format(len(validationloader.dataset)))\n",
    "\n",
    "testloader=DataLoader(test_data,batch_size=32,shuffle=False)\n",
    "print(\"No. of  batches in testloader:{} \".format(len(testloader)))\n",
    "print(\"No. of Total examples:{} \".format(len(testloader.dataset)))"
   ]
  },
  {
   "cell_type": "code",
   "execution_count": 53,
   "id": "ceb21cca-c40b-44d6-8d3e-335920e58c02",
   "metadata": {},
   "outputs": [],
   "source": [
    "import torch\n",
    "import torch.nn as nn\n",
    "import torch.nn.functional as F\n",
    "import torch.optim as optim\n",
    "from torchvision import models\n",
    "import torchvision.transforms as transforms"
   ]
  },
  {
   "cell_type": "code",
   "execution_count": 65,
   "id": "cef67e06-c3a7-4651-bb4b-e9d1d876f6d7",
   "metadata": {},
   "outputs": [],
   "source": [
    "model = models.resnet34(pretrained = True)    "
   ]
  },
  {
   "cell_type": "code",
   "execution_count": 67,
   "id": "047112cf-c1f0-466f-9d7b-dc6b1d63829e",
   "metadata": {},
   "outputs": [],
   "source": [
    "import torch\n",
    "import torch.nn as nn\n",
    "import torchvision.models as models\n",
    "\n",
    "# Example: load ResNet18\n",
    "model = models.resnet18(pretrained=True)\n",
    "\n",
    "# ✅ Step 1: Save in_features BEFORE replacing\n",
    "in_features = model.fc.in_features\n",
    "\n",
    "# ✅ Step 2: Replace the fully connected layer\n",
    "model.fc = nn.Sequential(\n",
    "    nn.Dropout(0.1),\n",
    "    nn.Linear(in_features, len(class_name))\n",
    ")\n",
    "\n",
    "# ✅ Step 3: Move model to device\n",
    "device = torch.device(\"cuda\" if torch.cuda.is_available() else \"cpu\")\n",
    "model = model.to(device)\n",
    "\n",
    "# ✅ Step 4: Define loss and optimizer\n",
    "criterion = nn.CrossEntropyLoss()\n",
    "optimizer = torch.optim.SGD(model.parameters(), lr=1e-3, momentum=0.9)\n"
   ]
  },
  {
   "cell_type": "code",
   "execution_count": 70,
   "id": "2f040f8d-bb79-4b09-91ab-87ac8884b1e7",
   "metadata": {},
   "outputs": [],
   "source": [
    "from tqdm import tqdm\n",
    "\n",
    "def train(model, criterion, optimizer, train_dataloader, test_dataloader, device):\n",
    "    total_train_loss = 0\n",
    "    total_test_loss = 0\n",
    "\n",
    "    # Training\n",
    "    model.train()\n",
    "    with tqdm(train_dataloader, unit='batch', leave=False) as pbar:\n",
    "        pbar.set_description('Training')\n",
    "        for images, idxs in pbar:\n",
    "            images = images.to(device, non_blocking=True)\n",
    "            idxs = idxs.to(device, non_blocking=True)\n",
    "\n",
    "            optimizer.zero_grad(set_to_none=True)\n",
    "            output = model(images)\n",
    "            loss = criterion(output, idxs)\n",
    "            loss.backward()\n",
    "            optimizer.step()\n",
    "\n",
    "            total_train_loss += loss.item()\n",
    "\n",
    "    # Testing / Validation\n",
    "    model.eval()\n",
    "    with torch.no_grad():\n",
    "        with tqdm(test_dataloader, unit='batch', leave=False) as pbar:\n",
    "            pbar.set_description('Testing')\n",
    "            for images, idxs in pbar:\n",
    "                images = images.to(device, non_blocking=True)\n",
    "                idxs = idxs.to(device, non_blocking=True)\n",
    "                output = model(images)\n",
    "                loss = criterion(output, idxs)\n",
    "                total_test_loss += loss.item()\n",
    "\n",
    "    train_loss = total_train_loss / len(train_dataloader.dataset)\n",
    "    test_loss = total_test_loss / len(test_dataloader.dataset)\n",
    "\n",
    "    print(f'Train loss: {train_loss:.4f} | Test loss: {test_loss:.4f}')\n"
   ]
  },
  {
   "cell_type": "code",
   "execution_count": 74,
   "id": "f2402b27-a4cb-40c6-8b98-9cca4ef0f947",
   "metadata": {},
   "outputs": [
    {
     "name": "stdout",
     "output_type": "stream",
     "text": [
      "\n",
      "Epoch 1/5\n"
     ]
    },
    {
     "name": "stderr",
     "output_type": "stream",
     "text": [
      "                                                                                                                       "
     ]
    },
    {
     "name": "stdout",
     "output_type": "stream",
     "text": [
      "Train loss: 0.0003 | Test loss: 0.0001\n",
      "\n",
      "Epoch 2/5\n"
     ]
    },
    {
     "name": "stderr",
     "output_type": "stream",
     "text": [
      "                                                                                                                       "
     ]
    },
    {
     "name": "stdout",
     "output_type": "stream",
     "text": [
      "Train loss: 0.0004 | Test loss: 0.0001\n",
      "\n",
      "Epoch 3/5\n"
     ]
    },
    {
     "name": "stderr",
     "output_type": "stream",
     "text": [
      "                                                                                                                       "
     ]
    },
    {
     "name": "stdout",
     "output_type": "stream",
     "text": [
      "Train loss: 0.0005 | Test loss: 0.0001\n",
      "\n",
      "Epoch 4/5\n"
     ]
    },
    {
     "name": "stderr",
     "output_type": "stream",
     "text": [
      "                                                                                                                       "
     ]
    },
    {
     "name": "stdout",
     "output_type": "stream",
     "text": [
      "Train loss: 0.0002 | Test loss: 0.0000\n",
      "\n",
      "Epoch 5/5\n"
     ]
    },
    {
     "name": "stderr",
     "output_type": "stream",
     "text": [
      "                                                                                                                       "
     ]
    },
    {
     "name": "stdout",
     "output_type": "stream",
     "text": [
      "Train loss: 0.0002 | Test loss: 0.0000\n"
     ]
    },
    {
     "name": "stderr",
     "output_type": "stream",
     "text": []
    }
   ],
   "source": [
    "device = torch.device(\"cuda\" if torch.cuda.is_available() else \"cpu\")\n",
    "model = model.to(device)\n",
    "\n",
    "epochs = 5\n",
    "for i in range(epochs):\n",
    "    print(f\"\\nEpoch {i+1}/{epochs}\")\n",
    "    train(model, criterion, optimizer, trainloader, validationloader, device=device)\n"
   ]
  },
  {
   "cell_type": "code",
   "execution_count": 79,
   "id": "b612ee77-de1d-4e2c-8b04-aaac32e770de",
   "metadata": {},
   "outputs": [],
   "source": [
    "Path = r'D:\\\\project\\\\signaturRecognition\\\\notebook\\\\model.pt'\n",
    "torch.save(model,Path)"
   ]
  },
  {
   "cell_type": "code",
   "execution_count": 80,
   "id": "c4bbf507-1eef-4c14-9fc8-eaaae8e13334",
   "metadata": {},
   "outputs": [
    {
     "data": {
      "text/plain": [
       "'D:\\\\project\\\\signaturRecognition\\\\notebook'"
      ]
     },
     "execution_count": 80,
     "metadata": {},
     "output_type": "execute_result"
    }
   ],
   "source": [
    "pwd"
   ]
  },
  {
   "cell_type": "code",
   "execution_count": 86,
   "id": "23e3031d-b8df-466c-8a71-580be4a8eb77",
   "metadata": {},
   "outputs": [
    {
     "data": {
      "text/plain": [
       "ResNet(\n",
       "  (conv1): Conv2d(3, 64, kernel_size=(7, 7), stride=(2, 2), padding=(3, 3), bias=False)\n",
       "  (bn1): BatchNorm2d(64, eps=1e-05, momentum=0.1, affine=True, track_running_stats=True)\n",
       "  (relu): ReLU(inplace=True)\n",
       "  (maxpool): MaxPool2d(kernel_size=3, stride=2, padding=1, dilation=1, ceil_mode=False)\n",
       "  (layer1): Sequential(\n",
       "    (0): BasicBlock(\n",
       "      (conv1): Conv2d(64, 64, kernel_size=(3, 3), stride=(1, 1), padding=(1, 1), bias=False)\n",
       "      (bn1): BatchNorm2d(64, eps=1e-05, momentum=0.1, affine=True, track_running_stats=True)\n",
       "      (relu): ReLU(inplace=True)\n",
       "      (conv2): Conv2d(64, 64, kernel_size=(3, 3), stride=(1, 1), padding=(1, 1), bias=False)\n",
       "      (bn2): BatchNorm2d(64, eps=1e-05, momentum=0.1, affine=True, track_running_stats=True)\n",
       "    )\n",
       "    (1): BasicBlock(\n",
       "      (conv1): Conv2d(64, 64, kernel_size=(3, 3), stride=(1, 1), padding=(1, 1), bias=False)\n",
       "      (bn1): BatchNorm2d(64, eps=1e-05, momentum=0.1, affine=True, track_running_stats=True)\n",
       "      (relu): ReLU(inplace=True)\n",
       "      (conv2): Conv2d(64, 64, kernel_size=(3, 3), stride=(1, 1), padding=(1, 1), bias=False)\n",
       "      (bn2): BatchNorm2d(64, eps=1e-05, momentum=0.1, affine=True, track_running_stats=True)\n",
       "    )\n",
       "  )\n",
       "  (layer2): Sequential(\n",
       "    (0): BasicBlock(\n",
       "      (conv1): Conv2d(64, 128, kernel_size=(3, 3), stride=(2, 2), padding=(1, 1), bias=False)\n",
       "      (bn1): BatchNorm2d(128, eps=1e-05, momentum=0.1, affine=True, track_running_stats=True)\n",
       "      (relu): ReLU(inplace=True)\n",
       "      (conv2): Conv2d(128, 128, kernel_size=(3, 3), stride=(1, 1), padding=(1, 1), bias=False)\n",
       "      (bn2): BatchNorm2d(128, eps=1e-05, momentum=0.1, affine=True, track_running_stats=True)\n",
       "      (downsample): Sequential(\n",
       "        (0): Conv2d(64, 128, kernel_size=(1, 1), stride=(2, 2), bias=False)\n",
       "        (1): BatchNorm2d(128, eps=1e-05, momentum=0.1, affine=True, track_running_stats=True)\n",
       "      )\n",
       "    )\n",
       "    (1): BasicBlock(\n",
       "      (conv1): Conv2d(128, 128, kernel_size=(3, 3), stride=(1, 1), padding=(1, 1), bias=False)\n",
       "      (bn1): BatchNorm2d(128, eps=1e-05, momentum=0.1, affine=True, track_running_stats=True)\n",
       "      (relu): ReLU(inplace=True)\n",
       "      (conv2): Conv2d(128, 128, kernel_size=(3, 3), stride=(1, 1), padding=(1, 1), bias=False)\n",
       "      (bn2): BatchNorm2d(128, eps=1e-05, momentum=0.1, affine=True, track_running_stats=True)\n",
       "    )\n",
       "  )\n",
       "  (layer3): Sequential(\n",
       "    (0): BasicBlock(\n",
       "      (conv1): Conv2d(128, 256, kernel_size=(3, 3), stride=(2, 2), padding=(1, 1), bias=False)\n",
       "      (bn1): BatchNorm2d(256, eps=1e-05, momentum=0.1, affine=True, track_running_stats=True)\n",
       "      (relu): ReLU(inplace=True)\n",
       "      (conv2): Conv2d(256, 256, kernel_size=(3, 3), stride=(1, 1), padding=(1, 1), bias=False)\n",
       "      (bn2): BatchNorm2d(256, eps=1e-05, momentum=0.1, affine=True, track_running_stats=True)\n",
       "      (downsample): Sequential(\n",
       "        (0): Conv2d(128, 256, kernel_size=(1, 1), stride=(2, 2), bias=False)\n",
       "        (1): BatchNorm2d(256, eps=1e-05, momentum=0.1, affine=True, track_running_stats=True)\n",
       "      )\n",
       "    )\n",
       "    (1): BasicBlock(\n",
       "      (conv1): Conv2d(256, 256, kernel_size=(3, 3), stride=(1, 1), padding=(1, 1), bias=False)\n",
       "      (bn1): BatchNorm2d(256, eps=1e-05, momentum=0.1, affine=True, track_running_stats=True)\n",
       "      (relu): ReLU(inplace=True)\n",
       "      (conv2): Conv2d(256, 256, kernel_size=(3, 3), stride=(1, 1), padding=(1, 1), bias=False)\n",
       "      (bn2): BatchNorm2d(256, eps=1e-05, momentum=0.1, affine=True, track_running_stats=True)\n",
       "    )\n",
       "  )\n",
       "  (layer4): Sequential(\n",
       "    (0): BasicBlock(\n",
       "      (conv1): Conv2d(256, 512, kernel_size=(3, 3), stride=(2, 2), padding=(1, 1), bias=False)\n",
       "      (bn1): BatchNorm2d(512, eps=1e-05, momentum=0.1, affine=True, track_running_stats=True)\n",
       "      (relu): ReLU(inplace=True)\n",
       "      (conv2): Conv2d(512, 512, kernel_size=(3, 3), stride=(1, 1), padding=(1, 1), bias=False)\n",
       "      (bn2): BatchNorm2d(512, eps=1e-05, momentum=0.1, affine=True, track_running_stats=True)\n",
       "      (downsample): Sequential(\n",
       "        (0): Conv2d(256, 512, kernel_size=(1, 1), stride=(2, 2), bias=False)\n",
       "        (1): BatchNorm2d(512, eps=1e-05, momentum=0.1, affine=True, track_running_stats=True)\n",
       "      )\n",
       "    )\n",
       "    (1): BasicBlock(\n",
       "      (conv1): Conv2d(512, 512, kernel_size=(3, 3), stride=(1, 1), padding=(1, 1), bias=False)\n",
       "      (bn1): BatchNorm2d(512, eps=1e-05, momentum=0.1, affine=True, track_running_stats=True)\n",
       "      (relu): ReLU(inplace=True)\n",
       "      (conv2): Conv2d(512, 512, kernel_size=(3, 3), stride=(1, 1), padding=(1, 1), bias=False)\n",
       "      (bn2): BatchNorm2d(512, eps=1e-05, momentum=0.1, affine=True, track_running_stats=True)\n",
       "    )\n",
       "  )\n",
       "  (avgpool): AdaptiveAvgPool2d(output_size=(1, 1))\n",
       "  (fc): Sequential(\n",
       "    (0): Dropout(p=0.1, inplace=False)\n",
       "    (1): Linear(in_features=512, out_features=2, bias=True)\n",
       "  )\n",
       ")"
      ]
     },
     "execution_count": 86,
     "metadata": {},
     "output_type": "execute_result"
    }
   ],
   "source": [
    "\n",
    "# Load the full model (architecture + weights)\n",
    "model = torch.load(Path, weights_only=False)  # explicitly disable weights_only\n",
    "model.eval()\n"
   ]
  },
  {
   "cell_type": "code",
   "execution_count": 97,
   "id": "a8b26c32-ce9e-4537-9afb-759665458423",
   "metadata": {},
   "outputs": [],
   "source": [
    "from tqdm import tqdm\n",
    "\n",
    "def evaluate(model, criterion, test_dataloader, device):\n",
    "    total_test_loss = 0\n",
    "    model.eval()\n",
    "\n",
    "    with torch.no_grad():  # important for evaluation\n",
    "        with tqdm(test_dataloader, unit='batch', leave=False) as pbar:\n",
    "            pbar.set_description('Testing')\n",
    "            for images, idxs in pbar:\n",
    "                images = images.to(device, non_blocking=True)\n",
    "                idxs = idxs.to(device, non_blocking=True)\n",
    "\n",
    "                output = model(images)\n",
    "                loss = criterion(output, idxs)\n",
    "                total_test_loss += loss.item()\n",
    "\n",
    "    # Use length of dataset, not val_data\n",
    "    test_loss = total_test_loss / len(test_dataloader.dataset)\n",
    "    print(f'Test loss: {test_loss:.4f}')\n"
   ]
  },
  {
   "cell_type": "code",
   "execution_count": 98,
   "id": "bbe8c5a8-e308-4151-958c-94d488dbf782",
   "metadata": {},
   "outputs": [
    {
     "name": "stderr",
     "output_type": "stream",
     "text": [
      "                                                                                                                       "
     ]
    },
    {
     "name": "stdout",
     "output_type": "stream",
     "text": [
      "Test loss: 0.0000\n"
     ]
    },
    {
     "name": "stderr",
     "output_type": "stream",
     "text": []
    }
   ],
   "source": [
    "evaluate(model, criterion, testloader, device)\n"
   ]
  },
  {
   "cell_type": "code",
   "execution_count": 99,
   "id": "3cb030f8-10e2-446a-aaf4-b96c4001bbba",
   "metadata": {},
   "outputs": [
    {
     "data": {
      "text/plain": [
       "['full_forg', 'full_org']"
      ]
     },
     "execution_count": 99,
     "metadata": {},
     "output_type": "execute_result"
    }
   ],
   "source": [
    "label_names=data.classes\n",
    "label_names"
   ]
  },
  {
   "cell_type": "code",
   "execution_count": 107,
   "id": "f4794ead-88d3-4bcf-9af6-47a6a82dc154",
   "metadata": {},
   "outputs": [
    {
     "name": "stdout",
     "output_type": "stream",
     "text": [
      "prediction label: 1\n",
      "predicted class name: full_org\n"
     ]
    }
   ],
   "source": [
    "from PIL import Image\n",
    "\n",
    "image=Image.open(r\"D:\\project\\signaturRecognition\\notebook\\data\\full_org\\original_19_13.png\")\n",
    "preprocess=transforms.Compose([\n",
    "    transforms.Resize(size=(224,224)),\n",
    "    transforms.Grayscale(3),\n",
    "    transforms.ToTensor()\n",
    "])\n",
    "image=preprocess(image)\n",
    "image=image[:3]\n",
    "image = image.unsqueeze(0).to (device)\n",
    "with torch.no_grad():\n",
    "    logits = model(image)\n",
    "    probs = torch.softmax(logits, dim=1)\n",
    "    pred_label = torch.argmax(probs,dim=1)\n",
    "print(f'prediction label: {pred_label.item()}')\n",
    "predicted_class_name = label_names[pred_label.item()]\n",
    "print(f'predicted class name: {predicted_class_name}')\n",
    "\n"
   ]
  },
  {
   "cell_type": "code",
   "execution_count": null,
   "id": "529d6036-c611-4e44-92e6-6cddecaefd1c",
   "metadata": {},
   "outputs": [],
   "source": []
  }
 ],
 "metadata": {
  "kernelspec": {
   "display_name": "Python 3 (ipykernel)",
   "language": "python",
   "name": "python3"
  },
  "language_info": {
   "codemirror_mode": {
    "name": "ipython",
    "version": 3
   },
   "file_extension": ".py",
   "mimetype": "text/x-python",
   "name": "python",
   "nbconvert_exporter": "python",
   "pygments_lexer": "ipython3",
   "version": "3.12.4"
  }
 },
 "nbformat": 4,
 "nbformat_minor": 5
}
